{
 "cells": [
  {
   "cell_type": "code",
   "execution_count": 1,
   "id": "e1e74fad-a4ff-465f-9e3b-659ab53af342",
   "metadata": {},
   "outputs": [],
   "source": [
    "# import libraries\n",
    "\n",
    "from bs4 import BeautifulSoup\n",
    "import requests\n",
    "import time\n",
    "import datetime\n"
   ]
  },
  {
   "cell_type": "code",
   "execution_count": 12,
   "id": "a46fd5bc-22e9-472a-a55f-5fc917c8a40a",
   "metadata": {},
   "outputs": [
    {
     "name": "stdout",
     "output_type": "stream",
     "text": [
      "\n",
      "                    Funny Got Data MIS Data Systems Business Analyst T-Shirt\n",
      "                   \n",
      "\n",
      "\n",
      "\n",
      "\n",
      "                    $16.99\n",
      "                   \n",
      "\n",
      "\n",
      "\n",
      "\n",
      "\n",
      "                      $\n",
      "                     \n",
      "\n",
      "                      16\n",
      "                      \n",
      "                       .\n",
      "                      \n",
      "\n",
      "\n",
      "                      99\n",
      "                     \n",
      "\n",
      "\n",
      "\n",
      "\n",
      "\n",
      "\n",
      "\n",
      "\n",
      "\n",
      "\n",
      "\n",
      "\n",
      "\n",
      "\n",
      "\n",
      "\n",
      "                       4.2\n",
      "                      \n",
      "\n",
      "\n",
      "                        4.2 out of 5 stars\n",
      "                       \n",
      "\n",
      "\n",
      "\n",
      "\n",
      "\n",
      "\n",
      "\n",
      "\n"
     ]
    }
   ],
   "source": [
    "# Connect to Website and pull in data\n",
    "\n",
    "url = \"https://www.amazon.com/Funny-Data-Systems-Business-Analyst/dp/B07FNW9FGJ/ref=sr_1_1?dib=eyJ2IjoiMSJ9.EkdWY-JPkdMVH0ehyai8WrEeGxUW23jZ4L14AX4t9y_WiQmRlRVo2Q21EReBat3X-yDeb87B-NulARDmHXJs2JKirioeazhLXvWlU0PNjjixwb9axunGUne71cmnk7m6FaVSTaridkv-TbU4yZvX4UNGK2wdeJR48vAPi22ZXh83SO1q8SSrMv4EJelvSrSygT6EiUPFPY4Pz3doFz57Axnkc18ulPzWFt1xo260SPufYH1qqAL-dAS99ZG4P7Xziewhev7QYf1E8x80vfsQUE6-YugRxjavC1iCmp6K_kQ.9XU6C3TFaSdRQxvAMQX9pbKE626KTrSB-N_Ujv0in9c&dib_tag=se&keywords=funny+got+data+mis+data+systems+business+analyst+t-shrit&qid=1728473748&sr=8-1\"\n",
    "\n",
    "headers = {\"User-Agent\": \"Mozilla/5.0 (Windows NT 10.0; Win64; x64) AppleWebKit/537.36 (KHTML, like Gecko) Chrome/129.0.0.0 Safari/537.36 Edg/129.0.0.0\",\"Accept-Language\": \"en-US,en;q=0.9\"}\n",
    "\n",
    "page = requests.get(url, headers = headers)\n",
    "\n",
    "soup1 = BeautifulSoup(page.content, 'html.parser')\n",
    "\n",
    "soup2 = BeautifulSoup(soup1.prettify(),'html.parser')\n",
    "\n",
    "title = soup2.find(id = 'productTitle').get_text()\n",
    "\n",
    "price = soup2.find(id = 'corePriceDisplay_desktop_feature_div').get_text()\n",
    "\n",
    "customer_rating = soup2.find(id = 'acrPopover').get_text()\n",
    "\n",
    "print(title)\n",
    "print(price)\n",
    "print(customer_rating)\n",
    "\n",
    "\n"
   ]
  },
  {
   "cell_type": "code",
   "execution_count": 13,
   "id": "bbd1d2c5-dd2d-4853-b721-ae11f80de899",
   "metadata": {},
   "outputs": [
    {
     "name": "stdout",
     "output_type": "stream",
     "text": [
      "Funny Got Data MIS Data Systems Business Analyst T-Shirt\n",
      "16.99\n",
      "4.2\n"
     ]
    }
   ],
   "source": [
    "# Clean up the data a little bit\n",
    "\n",
    "title = title.strip()\n",
    "price= price.strip()[1:6]\n",
    "customer_rating = customer_rating.strip()[:3]\n",
    "\n",
    "print(title)\n",
    "print(price)\n",
    "print(customer_rating)"
   ]
  },
  {
   "cell_type": "code",
   "execution_count": 8,
   "id": "55b55946-cdf6-4ca0-9549-62bf00c40681",
   "metadata": {},
   "outputs": [
    {
     "name": "stdout",
     "output_type": "stream",
     "text": [
      "2024-11-05\n"
     ]
    }
   ],
   "source": [
    "# Create a Timestamp for your output to track when data was collected\n",
    "\n",
    "\n",
    "import datetime\n",
    "today = datetime.date.today()\n",
    "print(today)"
   ]
  },
  {
   "cell_type": "code",
   "execution_count": 14,
   "id": "553c6174-97cd-40cd-96cb-2ca873da42e7",
   "metadata": {},
   "outputs": [],
   "source": [
    "# Create CSV and write headers and data into the file\n",
    "\n",
    "\n",
    "import csv\n",
    "\n",
    "header = ['Title', 'Price', 'Customer_rating', 'Date']\n",
    "data = [title, price, customer_rating, today]\n",
    " \n",
    "\n",
    "with open('Amazon.csv', 'w', newline ='', encoding = 'UTF8') as f:\n",
    "    writer = csv.writer(f)\n",
    "    writer.writerow(header)\n",
    "    writer.writerow(data)\n",
    "\n",
    "\n",
    "\n",
    "\n"
   ]
  },
  {
   "cell_type": "code",
   "execution_count": 15,
   "id": "0e170e35-2095-4c8f-b7ca-1c0f77220def",
   "metadata": {},
   "outputs": [],
   "source": [
    "import pandas as pd"
   ]
  },
  {
   "cell_type": "code",
   "execution_count": 28,
   "id": "12ef7231-5689-4fd0-89d6-de28be09c905",
   "metadata": {},
   "outputs": [],
   "source": [
    "df = pd.read_csv(r\"C:\\Users\\user\\Amazon.csv\")"
   ]
  },
  {
   "cell_type": "code",
   "execution_count": 29,
   "id": "09ee0b91-effe-413d-8974-b78c65744211",
   "metadata": {},
   "outputs": [],
   "source": [
    "#Now we are appending data to the csv\n",
    "\n",
    "with open('Amazon.csv', 'a+', newline ='', encoding = 'UTF8') as f:\n",
    "    writer = csv.writer(f)\n",
    "    writer.writerow(data)\n",
    "\n"
   ]
  },
  {
   "cell_type": "code",
   "execution_count": 26,
   "id": "bc960e1c-4716-4508-aef4-bd7296d6281d",
   "metadata": {},
   "outputs": [],
   "source": [
    "#Combine all of the above code into one function\n",
    "\n",
    "def check_price():\n",
    "    url = \"https://www.amazon.com/Funny-Data-Systems-Business-Analyst/dp/B07FNW9FGJ/ref=sr_1_1?dib=eyJ2IjoiMSJ9.EkdWY-JPkdMVH0ehyai8WrEeGxUW23jZ4L14AX4t9y_WiQmRlRVo2Q21EReBat3X-yDeb87B-NulARDmHXJs2JKirioeazhLXvWlU0PNjjixwb9axunGUne71cmnk7m6FaVSTaridkv-TbU4yZvX4UNGK2wdeJR48vAPi22ZXh83SO1q8SSrMv4EJelvSrSygT6EiUPFPY4Pz3doFz57Axnkc18ulPzWFt1xo260SPufYH1qqAL-dAS99ZG4P7Xziewhev7QYf1E8x80vfsQUE6-YugRxjavC1iCmp6K_kQ.9XU6C3TFaSdRQxvAMQX9pbKE626KTrSB-N_Ujv0in9c&dib_tag=se&keywords=funny+got+data+mis+data+systems+business+analyst+t-shrit&qid=1728473748&sr=8-1\"\n",
    "\n",
    "    headers = {\"User-Agent\": \"Mozilla/5.0 (Windows NT 10.0; Win64; x64) AppleWebKit/537.36 (KHTML, like Gecko) Chrome/129.0.0.0 Safari/537.36 Edg/129.0.0.0\",\"Accept-Language\": \"en-US,en;q=0.9\"}\n",
    "\n",
    "    page = requests.get(url, headers = headers)\n",
    "\n",
    "    soup1 = BeautifulSoup(page.content, 'html.parser')\n",
    "\n",
    "    soup2 = BeautifulSoup(soup1.prettify(),'html.parser')\n",
    "\n",
    "    title = soup2.find(id = 'productTitle').get_text()\n",
    "\n",
    "    price = soup2.find(id = 'corePriceDisplay_desktop_feature_div').get_text()\n",
    "\n",
    "    customer_rating = soup2.find(id = 'acrPopover').get_text()\n",
    "\n",
    "    title = title.strip()\n",
    "    \n",
    "    price= price.strip()[1:6]\n",
    "\n",
    "    customer_rating = customer_rating.strip()[:3]\n",
    "\n",
    "    import datetime\n",
    "    \n",
    "    today = datetime.date.today()\n",
    "\n",
    "    import csv\n",
    "\n",
    "    header = ['Title', 'Price', 'Customer_rating', 'Date']\n",
    "\n",
    "    data = [title, price, customer_rating, today]\n",
    "\n",
    "    with open('Amazon.csv', 'a+', newline ='', encoding = 'UTF8') as f:\n",
    "        writer = csv.writer(f)\n",
    "        writer.writerow(data)\n",
    "\n",
    "\n",
    "\n",
    "\n",
    "\n",
    "\n"
   ]
  },
  {
   "cell_type": "code",
   "execution_count": null,
   "id": "68f037be-4a3d-41be-99c0-48ead7a03d6b",
   "metadata": {},
   "outputs": [],
   "source": [
    "# Runs check_price after a set time and inputs data into your CSV\n",
    "\n",
    "while(True):\n",
    "    check_price()\n",
    "    time.sleep(120)"
   ]
  },
  {
   "cell_type": "code",
   "execution_count": null,
   "id": "ff8d3411-ad8b-4258-8b3b-9349481c51fe",
   "metadata": {},
   "outputs": [],
   "source": []
  },
  {
   "cell_type": "code",
   "execution_count": null,
   "id": "03ac8606-1dbf-48d6-9691-d1e2e1b80b08",
   "metadata": {},
   "outputs": [],
   "source": []
  },
  {
   "cell_type": "code",
   "execution_count": null,
   "id": "c6c83c73-48d9-4cd2-8ba6-105a065c6c34",
   "metadata": {},
   "outputs": [],
   "source": []
  },
  {
   "cell_type": "code",
   "execution_count": null,
   "id": "f4156dd6-87f6-4602-980d-a830431587ec",
   "metadata": {},
   "outputs": [],
   "source": []
  },
  {
   "cell_type": "code",
   "execution_count": null,
   "id": "59b3ef18-2df1-4781-b500-ad7479e9c784",
   "metadata": {},
   "outputs": [],
   "source": []
  }
 ],
 "metadata": {
  "kernelspec": {
   "display_name": "Python 3 (ipykernel)",
   "language": "python",
   "name": "python3"
  },
  "language_info": {
   "codemirror_mode": {
    "name": "ipython",
    "version": 3
   },
   "file_extension": ".py",
   "mimetype": "text/x-python",
   "name": "python",
   "nbconvert_exporter": "python",
   "pygments_lexer": "ipython3",
   "version": "3.12.4"
  }
 },
 "nbformat": 4,
 "nbformat_minor": 5
}
